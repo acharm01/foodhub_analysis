{
 "cells": [
  {
   "cell_type": "markdown",
   "metadata": {
    "id": "Gc8x8QimJY_H"
   },
   "source": [
    "# FoodHub Data Analysis\n"
   ]
  },
  {
   "cell_type": "markdown",
   "metadata": {
    "id": "NqikjkWwJY_L"
   },
   "source": [
    "### Context\n",
    "\n",
    "The number of restaurants in New York is increasing day by day. Lots of students and busy professionals rely on those restaurants due to their hectic lifestyles. Online food delivery service is a great option for them. It provides them with good food from their favorite restaurants. A food aggregator company FoodHub offers access to multiple restaurants through a single smartphone app.\n",
    "\n",
    "The app allows the restaurants to receive a direct online order from a customer. The app assigns a delivery person from the company to pick up the order after it is confirmed by the restaurant. The delivery person then uses the map to reach the restaurant and waits for the food package. Once the food package is handed over to the delivery person, he/she confirms the pick-up in the app and travels to the customer's location to deliver the food. The delivery person confirms the drop-off in the app after delivering the food package to the customer. The customer can rate the order in the app. The food aggregator earns money by collecting a fixed margin of the delivery order from the restaurants.\n",
    "\n",
    "### Objective\n",
    "\n",
    "The food aggregator company has stored the data of the different orders made by the registered customers in their online portal. They want to analyze the data to get a fair idea about the demand of different restaurants which will help them in enhancing their customer experience. Suppose you are hired as a Data Scientist in this company and the Data Science team has shared some of the key questions that need to be answered. Perform the data analysis to find answers to these questions that will help the company to improve the business. \n",
    "\n",
    "### Data Description\n",
    "\n",
    "The data contains the different data related to a food order. The detailed data dictionary is given below.\n",
    "\n",
    "### Data Dictionary\n",
    "\n",
    "* order_id: Unique ID of the order\n",
    "* customer_id: ID of the customer who ordered the food\n",
    "* restaurant_name: Name of the restaurant\n",
    "* cuisine_type: Cuisine ordered by the customer\n",
    "* cost: Cost of the order\n",
    "* day_of_the_week: Indicates whether the order is placed on a weekday or weekend (The weekday is from Monday to Friday and the weekend is Saturday and Sunday)\n",
    "* rating: Rating given by the customer out of 5\n",
    "* food_preparation_time: Time (in minutes) taken by the restaurant to prepare the food. This is calculated by taking the difference between the timestamps of the restaurant's order confirmation and the delivery person's pick-up confirmation.\n",
    "* delivery_time: Time (in minutes) taken by the delivery person to deliver the food package. This is calculated by taking the difference between the timestamps of the delivery person's pick-up confirmation and drop-off information"
   ]
  },
  {
   "cell_type": "markdown",
   "metadata": {
    "id": "cEtNUxNAJY_M"
   },
   "source": [
    "### Importing the required libraries"
   ]
  },
  {
   "cell_type": "code",
   "execution_count": 35,
   "metadata": {
    "id": "u6PlpJAPJY_N"
   },
   "outputs": [],
   "source": [
    "# import libraries for data manipulation\n",
    "import numpy as np\n",
    "import pandas as pd\n",
    "\n",
    "# import libraries for data visualization\n",
    "import matplotlib.pyplot as plt\n",
    "#let me add the below line as well, so that we can see the plots in notebook's interface itself\n",
    "%matplotlib inline \n",
    "import seaborn as sns"
   ]
  },
  {
   "cell_type": "markdown",
   "metadata": {
    "id": "AdracY0HJY_O"
   },
   "source": [
    "### Understanding the structure of the data"
   ]
  },
  {
   "cell_type": "code",
   "execution_count": 36,
   "metadata": {
    "id": "WBh2ZGB9kFhU"
   },
   "outputs": [],
   "source": [
    "# uncomment and run the following lines for Google Colab\n",
    "# from google.colab import drive\n",
    "# drive.mount('/content/drive')\n",
    "\n",
    "#Note: As I won't be using Google Colab, so I won't need this"
   ]
  },
  {
   "cell_type": "code",
   "execution_count": 37,
   "metadata": {
    "id": "GF01IZDbJY_O",
    "scrolled": true
   },
   "outputs": [],
   "source": [
    "# read the data\n",
    "df = pd.read_csv('foodhub_order.csv')\n",
    "#Let me make a copy so that I can work on the dataset without making changes in the original dataset\n",
    "foodhub = df.copy()"
   ]
  },
  {
   "cell_type": "code",
   "execution_count": 38,
   "metadata": {},
   "outputs": [
    {
     "data": {
      "text/html": [
       "<div>\n",
       "<style scoped>\n",
       "    .dataframe tbody tr th:only-of-type {\n",
       "        vertical-align: middle;\n",
       "    }\n",
       "\n",
       "    .dataframe tbody tr th {\n",
       "        vertical-align: top;\n",
       "    }\n",
       "\n",
       "    .dataframe thead th {\n",
       "        text-align: right;\n",
       "    }\n",
       "</style>\n",
       "<table border=\"1\" class=\"dataframe\">\n",
       "  <thead>\n",
       "    <tr style=\"text-align: right;\">\n",
       "      <th></th>\n",
       "      <th>order_id</th>\n",
       "      <th>customer_id</th>\n",
       "      <th>restaurant_name</th>\n",
       "      <th>cuisine_type</th>\n",
       "      <th>cost_of_the_order</th>\n",
       "      <th>day_of_the_week</th>\n",
       "      <th>rating</th>\n",
       "      <th>food_preparation_time</th>\n",
       "      <th>delivery_time</th>\n",
       "    </tr>\n",
       "  </thead>\n",
       "  <tbody>\n",
       "    <tr>\n",
       "      <th>0</th>\n",
       "      <td>1477147</td>\n",
       "      <td>337525</td>\n",
       "      <td>Hangawi</td>\n",
       "      <td>Korean</td>\n",
       "      <td>30.75</td>\n",
       "      <td>Weekend</td>\n",
       "      <td>Not given</td>\n",
       "      <td>25</td>\n",
       "      <td>20</td>\n",
       "    </tr>\n",
       "    <tr>\n",
       "      <th>1</th>\n",
       "      <td>1477685</td>\n",
       "      <td>358141</td>\n",
       "      <td>Blue Ribbon Sushi Izakaya</td>\n",
       "      <td>Japanese</td>\n",
       "      <td>12.08</td>\n",
       "      <td>Weekend</td>\n",
       "      <td>Not given</td>\n",
       "      <td>25</td>\n",
       "      <td>23</td>\n",
       "    </tr>\n",
       "    <tr>\n",
       "      <th>2</th>\n",
       "      <td>1477070</td>\n",
       "      <td>66393</td>\n",
       "      <td>Cafe Habana</td>\n",
       "      <td>Mexican</td>\n",
       "      <td>12.23</td>\n",
       "      <td>Weekday</td>\n",
       "      <td>5</td>\n",
       "      <td>23</td>\n",
       "      <td>28</td>\n",
       "    </tr>\n",
       "    <tr>\n",
       "      <th>3</th>\n",
       "      <td>1477334</td>\n",
       "      <td>106968</td>\n",
       "      <td>Blue Ribbon Fried Chicken</td>\n",
       "      <td>American</td>\n",
       "      <td>29.20</td>\n",
       "      <td>Weekend</td>\n",
       "      <td>3</td>\n",
       "      <td>25</td>\n",
       "      <td>15</td>\n",
       "    </tr>\n",
       "    <tr>\n",
       "      <th>4</th>\n",
       "      <td>1478249</td>\n",
       "      <td>76942</td>\n",
       "      <td>Dirty Bird to Go</td>\n",
       "      <td>American</td>\n",
       "      <td>11.59</td>\n",
       "      <td>Weekday</td>\n",
       "      <td>4</td>\n",
       "      <td>25</td>\n",
       "      <td>24</td>\n",
       "    </tr>\n",
       "    <tr>\n",
       "      <th>5</th>\n",
       "      <td>1477224</td>\n",
       "      <td>147468</td>\n",
       "      <td>Tamarind TriBeCa</td>\n",
       "      <td>Indian</td>\n",
       "      <td>25.22</td>\n",
       "      <td>Weekday</td>\n",
       "      <td>3</td>\n",
       "      <td>20</td>\n",
       "      <td>24</td>\n",
       "    </tr>\n",
       "    <tr>\n",
       "      <th>6</th>\n",
       "      <td>1477894</td>\n",
       "      <td>157711</td>\n",
       "      <td>The Meatball Shop</td>\n",
       "      <td>Italian</td>\n",
       "      <td>6.07</td>\n",
       "      <td>Weekend</td>\n",
       "      <td>Not given</td>\n",
       "      <td>28</td>\n",
       "      <td>21</td>\n",
       "    </tr>\n",
       "    <tr>\n",
       "      <th>7</th>\n",
       "      <td>1477859</td>\n",
       "      <td>89574</td>\n",
       "      <td>Barbounia</td>\n",
       "      <td>Mediterranean</td>\n",
       "      <td>5.97</td>\n",
       "      <td>Weekday</td>\n",
       "      <td>3</td>\n",
       "      <td>33</td>\n",
       "      <td>30</td>\n",
       "    </tr>\n",
       "    <tr>\n",
       "      <th>8</th>\n",
       "      <td>1477174</td>\n",
       "      <td>121706</td>\n",
       "      <td>Anjappar Chettinad</td>\n",
       "      <td>Indian</td>\n",
       "      <td>16.44</td>\n",
       "      <td>Weekday</td>\n",
       "      <td>5</td>\n",
       "      <td>21</td>\n",
       "      <td>26</td>\n",
       "    </tr>\n",
       "    <tr>\n",
       "      <th>9</th>\n",
       "      <td>1477311</td>\n",
       "      <td>39705</td>\n",
       "      <td>Bukhara Grill</td>\n",
       "      <td>Indian</td>\n",
       "      <td>7.18</td>\n",
       "      <td>Weekday</td>\n",
       "      <td>5</td>\n",
       "      <td>29</td>\n",
       "      <td>26</td>\n",
       "    </tr>\n",
       "  </tbody>\n",
       "</table>\n",
       "</div>"
      ],
      "text/plain": [
       "   order_id  customer_id            restaurant_name   cuisine_type  \\\n",
       "0   1477147       337525                    Hangawi         Korean   \n",
       "1   1477685       358141  Blue Ribbon Sushi Izakaya       Japanese   \n",
       "2   1477070        66393                Cafe Habana        Mexican   \n",
       "3   1477334       106968  Blue Ribbon Fried Chicken       American   \n",
       "4   1478249        76942           Dirty Bird to Go       American   \n",
       "5   1477224       147468           Tamarind TriBeCa         Indian   \n",
       "6   1477894       157711          The Meatball Shop        Italian   \n",
       "7   1477859        89574                  Barbounia  Mediterranean   \n",
       "8   1477174       121706         Anjappar Chettinad         Indian   \n",
       "9   1477311        39705              Bukhara Grill         Indian   \n",
       "\n",
       "   cost_of_the_order day_of_the_week     rating  food_preparation_time  \\\n",
       "0              30.75         Weekend  Not given                     25   \n",
       "1              12.08         Weekend  Not given                     25   \n",
       "2              12.23         Weekday          5                     23   \n",
       "3              29.20         Weekend          3                     25   \n",
       "4              11.59         Weekday          4                     25   \n",
       "5              25.22         Weekday          3                     20   \n",
       "6               6.07         Weekend  Not given                     28   \n",
       "7               5.97         Weekday          3                     33   \n",
       "8              16.44         Weekday          5                     21   \n",
       "9               7.18         Weekday          5                     29   \n",
       "\n",
       "   delivery_time  \n",
       "0             20  \n",
       "1             23  \n",
       "2             28  \n",
       "3             15  \n",
       "4             24  \n",
       "5             24  \n",
       "6             21  \n",
       "7             30  \n",
       "8             26  \n",
       "9             26  "
      ]
     },
     "execution_count": 38,
     "metadata": {},
     "output_type": "execute_result"
    }
   ],
   "source": [
    "'''As this dataset has slightly more observations, I want to have a quick look at more observations than just first five rows \n",
    "as returned by the default'''\n",
    "foodhub.head(10)"
   ]
  },
  {
   "cell_type": "code",
   "execution_count": 39,
   "metadata": {},
   "outputs": [
    {
     "data": {
      "text/html": [
       "<div>\n",
       "<style scoped>\n",
       "    .dataframe tbody tr th:only-of-type {\n",
       "        vertical-align: middle;\n",
       "    }\n",
       "\n",
       "    .dataframe tbody tr th {\n",
       "        vertical-align: top;\n",
       "    }\n",
       "\n",
       "    .dataframe thead th {\n",
       "        text-align: right;\n",
       "    }\n",
       "</style>\n",
       "<table border=\"1\" class=\"dataframe\">\n",
       "  <thead>\n",
       "    <tr style=\"text-align: right;\">\n",
       "      <th></th>\n",
       "      <th>order_id</th>\n",
       "      <th>customer_id</th>\n",
       "      <th>restaurant_name</th>\n",
       "      <th>cuisine_type</th>\n",
       "      <th>cost_of_the_order</th>\n",
       "      <th>day_of_the_week</th>\n",
       "      <th>rating</th>\n",
       "      <th>food_preparation_time</th>\n",
       "      <th>delivery_time</th>\n",
       "    </tr>\n",
       "  </thead>\n",
       "  <tbody>\n",
       "    <tr>\n",
       "      <th>1888</th>\n",
       "      <td>1477353</td>\n",
       "      <td>106324</td>\n",
       "      <td>The Meatball Shop</td>\n",
       "      <td>Italian</td>\n",
       "      <td>16.20</td>\n",
       "      <td>Weekend</td>\n",
       "      <td>5</td>\n",
       "      <td>21</td>\n",
       "      <td>26</td>\n",
       "    </tr>\n",
       "    <tr>\n",
       "      <th>1889</th>\n",
       "      <td>1478190</td>\n",
       "      <td>94152</td>\n",
       "      <td>RedFarm Broadway</td>\n",
       "      <td>Chinese</td>\n",
       "      <td>8.68</td>\n",
       "      <td>Weekday</td>\n",
       "      <td>3</td>\n",
       "      <td>33</td>\n",
       "      <td>30</td>\n",
       "    </tr>\n",
       "    <tr>\n",
       "      <th>1890</th>\n",
       "      <td>1477316</td>\n",
       "      <td>164776</td>\n",
       "      <td>TAO</td>\n",
       "      <td>Japanese</td>\n",
       "      <td>15.67</td>\n",
       "      <td>Weekend</td>\n",
       "      <td>5</td>\n",
       "      <td>20</td>\n",
       "      <td>22</td>\n",
       "    </tr>\n",
       "    <tr>\n",
       "      <th>1891</th>\n",
       "      <td>1476981</td>\n",
       "      <td>138586</td>\n",
       "      <td>Shake Shack</td>\n",
       "      <td>American</td>\n",
       "      <td>5.82</td>\n",
       "      <td>Weekend</td>\n",
       "      <td>Not given</td>\n",
       "      <td>22</td>\n",
       "      <td>28</td>\n",
       "    </tr>\n",
       "    <tr>\n",
       "      <th>1892</th>\n",
       "      <td>1477473</td>\n",
       "      <td>97838</td>\n",
       "      <td>Han Dynasty</td>\n",
       "      <td>Chinese</td>\n",
       "      <td>29.15</td>\n",
       "      <td>Weekend</td>\n",
       "      <td>Not given</td>\n",
       "      <td>29</td>\n",
       "      <td>21</td>\n",
       "    </tr>\n",
       "    <tr>\n",
       "      <th>1893</th>\n",
       "      <td>1476701</td>\n",
       "      <td>292602</td>\n",
       "      <td>Chipotle Mexican Grill $1.99 Delivery</td>\n",
       "      <td>Mexican</td>\n",
       "      <td>22.31</td>\n",
       "      <td>Weekend</td>\n",
       "      <td>5</td>\n",
       "      <td>31</td>\n",
       "      <td>17</td>\n",
       "    </tr>\n",
       "    <tr>\n",
       "      <th>1894</th>\n",
       "      <td>1477421</td>\n",
       "      <td>397537</td>\n",
       "      <td>The Smile</td>\n",
       "      <td>American</td>\n",
       "      <td>12.18</td>\n",
       "      <td>Weekend</td>\n",
       "      <td>5</td>\n",
       "      <td>31</td>\n",
       "      <td>19</td>\n",
       "    </tr>\n",
       "    <tr>\n",
       "      <th>1895</th>\n",
       "      <td>1477819</td>\n",
       "      <td>35309</td>\n",
       "      <td>Blue Ribbon Sushi</td>\n",
       "      <td>Japanese</td>\n",
       "      <td>25.22</td>\n",
       "      <td>Weekday</td>\n",
       "      <td>Not given</td>\n",
       "      <td>31</td>\n",
       "      <td>24</td>\n",
       "    </tr>\n",
       "    <tr>\n",
       "      <th>1896</th>\n",
       "      <td>1477513</td>\n",
       "      <td>64151</td>\n",
       "      <td>Jack's Wife Freda</td>\n",
       "      <td>Mediterranean</td>\n",
       "      <td>12.18</td>\n",
       "      <td>Weekday</td>\n",
       "      <td>5</td>\n",
       "      <td>23</td>\n",
       "      <td>31</td>\n",
       "    </tr>\n",
       "    <tr>\n",
       "      <th>1897</th>\n",
       "      <td>1478056</td>\n",
       "      <td>120353</td>\n",
       "      <td>Blue Ribbon Sushi</td>\n",
       "      <td>Japanese</td>\n",
       "      <td>19.45</td>\n",
       "      <td>Weekend</td>\n",
       "      <td>Not given</td>\n",
       "      <td>28</td>\n",
       "      <td>24</td>\n",
       "    </tr>\n",
       "  </tbody>\n",
       "</table>\n",
       "</div>"
      ],
      "text/plain": [
       "      order_id  customer_id                        restaurant_name  \\\n",
       "1888   1477353       106324                      The Meatball Shop   \n",
       "1889   1478190        94152                       RedFarm Broadway   \n",
       "1890   1477316       164776                                    TAO   \n",
       "1891   1476981       138586                            Shake Shack   \n",
       "1892   1477473        97838                            Han Dynasty   \n",
       "1893   1476701       292602  Chipotle Mexican Grill $1.99 Delivery   \n",
       "1894   1477421       397537                              The Smile   \n",
       "1895   1477819        35309                      Blue Ribbon Sushi   \n",
       "1896   1477513        64151                      Jack's Wife Freda   \n",
       "1897   1478056       120353                      Blue Ribbon Sushi   \n",
       "\n",
       "       cuisine_type  cost_of_the_order day_of_the_week     rating  \\\n",
       "1888        Italian              16.20         Weekend          5   \n",
       "1889        Chinese               8.68         Weekday          3   \n",
       "1890       Japanese              15.67         Weekend          5   \n",
       "1891       American               5.82         Weekend  Not given   \n",
       "1892        Chinese              29.15         Weekend  Not given   \n",
       "1893        Mexican              22.31         Weekend          5   \n",
       "1894       American              12.18         Weekend          5   \n",
       "1895       Japanese              25.22         Weekday  Not given   \n",
       "1896  Mediterranean              12.18         Weekday          5   \n",
       "1897       Japanese              19.45         Weekend  Not given   \n",
       "\n",
       "      food_preparation_time  delivery_time  \n",
       "1888                     21             26  \n",
       "1889                     33             30  \n",
       "1890                     20             22  \n",
       "1891                     22             28  \n",
       "1892                     29             21  \n",
       "1893                     31             17  \n",
       "1894                     31             19  \n",
       "1895                     31             24  \n",
       "1896                     23             31  \n",
       "1897                     28             24  "
      ]
     },
     "execution_count": 39,
     "metadata": {},
     "output_type": "execute_result"
    }
   ],
   "source": [
    "#Quick glimpse of the last 10 rows \n",
    "foodhub.tail(10)"
   ]
  },
  {
   "cell_type": "markdown",
   "metadata": {
    "id": "J_Y9aJDJJY_P"
   },
   "source": [
    "#### Observations:\n",
    "1. The DataFrame has 9 columns as mentioned in the Data Dictionary. \n",
    "2. Data in each row corresponds to the order placed by a customer.\n",
    "3. There are altogether 1898 observations as the first observation starts from indexed value of 0\n",
    "4. We can get a general sense of what the dataset is about. The dataset has the information on the customer, his/her order--what type of food, from which restaurant, what rating did he/she give, and so on. Orders have been grouped into two categories--weekend and weekday, and the dataset has also the information on as to how much time does it take to get food prepared, and get delivered to the customers' doors. \n"
   ]
  },
  {
   "cell_type": "markdown",
   "metadata": {
    "id": "c3kenV4vJY_Q"
   },
   "source": [
    "### How many rows and columns are present in the data?"
   ]
  },
  {
   "cell_type": "code",
   "execution_count": 40,
   "metadata": {},
   "outputs": [
    {
     "data": {
      "text/plain": [
       "pandas.core.frame.DataFrame"
      ]
     },
     "execution_count": 40,
     "metadata": {},
     "output_type": "execute_result"
    }
   ],
   "source": [
    "type(foodhub)"
   ]
  },
  {
   "cell_type": "code",
   "execution_count": 41,
   "metadata": {
    "id": "Yvz5i-PhJY_Q"
   },
   "outputs": [
    {
     "data": {
      "text/plain": [
       "(1898, 9)"
      ]
     },
     "execution_count": 41,
     "metadata": {},
     "output_type": "execute_result"
    }
   ],
   "source": [
    "#Let me see the dimension of the dataframe \n",
    "foodhub.shape"
   ]
  },
  {
   "cell_type": "markdown",
   "metadata": {
    "id": "UsTNy3unJY_R"
   },
   "source": [
    "#### Observations: \n",
    "1. The dataframe has 1,898 rows, and 9 columns\n",
    "2. Running type also helps me double check the type of data frame I have as there are certain attributes that could be run in pandas DataFrame only, and not for others (for instance, 'info', 'dtypes' are not the attributes of nd.array in Numpy )"
   ]
  },
  {
   "cell_type": "markdown",
   "metadata": {
    "id": "jRXakVrUJY_R"
   },
   "source": [
    "###  What are the datatypes of the different columns in the dataset?"
   ]
  },
  {
   "cell_type": "code",
   "execution_count": 42,
   "metadata": {
    "id": "Kp70Z0BNJY_R"
   },
   "outputs": [
    {
     "data": {
      "text/plain": [
       "order_id                   int64\n",
       "customer_id                int64\n",
       "restaurant_name           object\n",
       "cuisine_type              object\n",
       "cost_of_the_order        float64\n",
       "day_of_the_week           object\n",
       "rating                    object\n",
       "food_preparation_time      int64\n",
       "delivery_time              int64\n",
       "dtype: object"
      ]
     },
     "execution_count": 42,
     "metadata": {},
     "output_type": "execute_result"
    }
   ],
   "source": [
    "foodhub.dtypes"
   ]
  },
  {
   "cell_type": "code",
   "execution_count": 43,
   "metadata": {},
   "outputs": [
    {
     "name": "stdout",
     "output_type": "stream",
     "text": [
      "<class 'pandas.core.frame.DataFrame'>\n",
      "RangeIndex: 1898 entries, 0 to 1897\n",
      "Data columns (total 9 columns):\n",
      " #   Column                 Non-Null Count  Dtype  \n",
      "---  ------                 --------------  -----  \n",
      " 0   order_id               1898 non-null   int64  \n",
      " 1   customer_id            1898 non-null   int64  \n",
      " 2   restaurant_name        1898 non-null   object \n",
      " 3   cuisine_type           1898 non-null   object \n",
      " 4   cost_of_the_order      1898 non-null   float64\n",
      " 5   day_of_the_week        1898 non-null   object \n",
      " 6   rating                 1898 non-null   object \n",
      " 7   food_preparation_time  1898 non-null   int64  \n",
      " 8   delivery_time          1898 non-null   int64  \n",
      "dtypes: float64(1), int64(4), object(4)\n",
      "memory usage: 133.6+ KB\n"
     ]
    }
   ],
   "source": [
    "#alternatively, I can use the following dot method to get more information\n",
    "foodhub.info()"
   ]
  },
  {
   "cell_type": "markdown",
   "metadata": {
    "id": "WJes5GP2JY_S",
    "tags": []
   },
   "source": [
    "#### Observations: \n",
    "1. All columns have 1898 entries or observations \n",
    "2. There are 9 columns or variables. Four are integers, four are objects, and one is float. \n",
    "3. The similar frequency of all the columns indicate that there may not be missing values but eyeballing the dataset, we can see rating has quite a few observations which are labelled as 'Not given'. This could be an issue especially while answering Q.13 when we have to deal with the mean(average) of the rating. As 'rating' is a panda series consisting of both string and numeric values, computing mean won't be possible. Hence, the best option to address this issue would be the replacement of 'Not given' by 0. Doing this will help in two ways: a. The rating as expected would be a numeric variable(an integer or float) b. We can do the calculation without biases with zero being assigned to 'Not given'\n",
    "4. int64 means that it has a range of 2^64, and takes 64 bits to be represented, and thus takes 8 bytes of space \n",
    "\n"
   ]
  },
  {
   "cell_type": "code",
   "execution_count": 44,
   "metadata": {},
   "outputs": [
    {
     "name": "stdout",
     "output_type": "stream",
     "text": [
      "<class 'pandas.core.series.Series'>\n",
      "0    Not given\n",
      "1    Not given\n",
      "2            5\n",
      "3            3\n",
      "4            4\n",
      "5            3\n",
      "6    Not given\n",
      "7            3\n",
      "8            5\n",
      "9            5\n",
      "Name: rating, dtype: object\n"
     ]
    }
   ],
   "source": [
    "print(type(foodhub.rating))\n",
    "print(foodhub.rating.head(10))"
   ]
  },
  {
   "cell_type": "code",
   "execution_count": 69,
   "metadata": {},
   "outputs": [
    {
     "name": "stdout",
     "output_type": "stream",
     "text": [
      "0       0\n",
      "1       0\n",
      "2       5\n",
      "3       3\n",
      "4       4\n",
      "       ..\n",
      "1893    5\n",
      "1894    5\n",
      "1895    0\n",
      "1896    5\n",
      "1897    0\n",
      "Name: rating, Length: 1898, dtype: int64\n",
      "<class 'pandas.core.frame.DataFrame'>\n",
      "RangeIndex: 1898 entries, 0 to 1897\n",
      "Data columns (total 9 columns):\n",
      " #   Column                 Non-Null Count  Dtype  \n",
      "---  ------                 --------------  -----  \n",
      " 0   order_id               1898 non-null   int64  \n",
      " 1   customer_id            1898 non-null   int64  \n",
      " 2   restaurant_name        1898 non-null   object \n",
      " 3   cuisine_type           1898 non-null   object \n",
      " 4   cost_of_the_order      1898 non-null   float64\n",
      " 5   day_of_the_week        1898 non-null   object \n",
      " 6   rating                 1898 non-null   int64  \n",
      " 7   food_preparation_time  1898 non-null   int64  \n",
      " 8   delivery_time          1898 non-null   int64  \n",
      "dtypes: float64(1), int64(5), object(3)\n",
      "memory usage: 133.6+ KB\n"
     ]
    }
   ],
   "source": [
    "#Replacing 'Not given' by zero(0) as there are only options of 1-5 for rating, and 0 effectively corresponds to value when rate is not given\n",
    "#And converting object 'rating' to numeric one. \n",
    "dict1 = {\"Not given\" : 0}\n",
    "foodhub['rating'].replace(dict1, inplace = True)\n",
    "print(foodhub.rating)\n",
    "foodhub['rating'] = pd.to_numeric(foodhub['rating'])\n",
    "foodhub.info()"
   ]
  },
  {
   "cell_type": "markdown",
   "metadata": {
    "id": "pF_92MN6JY_S"
   },
   "source": [
    "### Are there any missing values in the data?"
   ]
  },
  {
   "cell_type": "code",
   "execution_count": 46,
   "metadata": {
    "id": "Zth-RR1PJY_S"
   },
   "outputs": [
    {
     "data": {
      "text/plain": [
       "order_id                 0\n",
       "customer_id              0\n",
       "restaurant_name          0\n",
       "cuisine_type             0\n",
       "cost_of_the_order        0\n",
       "day_of_the_week          0\n",
       "rating                   0\n",
       "food_preparation_time    0\n",
       "delivery_time            0\n",
       "dtype: int64"
      ]
     },
     "execution_count": 46,
     "metadata": {},
     "output_type": "execute_result"
    }
   ],
   "source": [
    "# Checking for missing values \n",
    "foodhub.isna().sum()"
   ]
  },
  {
   "cell_type": "markdown",
   "metadata": {
    "id": "jDHT3vD1JY_S",
    "jp-MarkdownHeadingCollapsed": true,
    "tags": []
   },
   "source": [
    "#### Observations: \n",
    "1. There are no missing values in the dataset\n",
    "2. As I explained above in details,'rating' has a unique category of 'not given', and this has been replaced by 0. "
   ]
  },
  {
   "cell_type": "markdown",
   "metadata": {
    "id": "MnJo7MWrJY_S"
   },
   "source": [
    "### Check the statistical summary of the data. "
   ]
  },
  {
   "cell_type": "code",
   "execution_count": 47,
   "metadata": {
    "id": "WprQBgOSJY_T"
   },
   "outputs": [
    {
     "data": {
      "text/html": [
       "<div>\n",
       "<style scoped>\n",
       "    .dataframe tbody tr th:only-of-type {\n",
       "        vertical-align: middle;\n",
       "    }\n",
       "\n",
       "    .dataframe tbody tr th {\n",
       "        vertical-align: top;\n",
       "    }\n",
       "\n",
       "    .dataframe thead th {\n",
       "        text-align: right;\n",
       "    }\n",
       "</style>\n",
       "<table border=\"1\" class=\"dataframe\">\n",
       "  <thead>\n",
       "    <tr style=\"text-align: right;\">\n",
       "      <th></th>\n",
       "      <th>count</th>\n",
       "      <th>mean</th>\n",
       "      <th>std</th>\n",
       "      <th>min</th>\n",
       "      <th>25%</th>\n",
       "      <th>50%</th>\n",
       "      <th>75%</th>\n",
       "      <th>max</th>\n",
       "    </tr>\n",
       "  </thead>\n",
       "  <tbody>\n",
       "    <tr>\n",
       "      <th>order_id</th>\n",
       "      <td>1898.0</td>\n",
       "      <td>1.477496e+06</td>\n",
       "      <td>548.049724</td>\n",
       "      <td>1476547.00</td>\n",
       "      <td>1477021.25</td>\n",
       "      <td>1477495.50</td>\n",
       "      <td>1.477970e+06</td>\n",
       "      <td>1478444.00</td>\n",
       "    </tr>\n",
       "    <tr>\n",
       "      <th>customer_id</th>\n",
       "      <td>1898.0</td>\n",
       "      <td>1.711685e+05</td>\n",
       "      <td>113698.139743</td>\n",
       "      <td>1311.00</td>\n",
       "      <td>77787.75</td>\n",
       "      <td>128600.00</td>\n",
       "      <td>2.705250e+05</td>\n",
       "      <td>405334.00</td>\n",
       "    </tr>\n",
       "    <tr>\n",
       "      <th>cost_of_the_order</th>\n",
       "      <td>1898.0</td>\n",
       "      <td>1.649885e+01</td>\n",
       "      <td>7.483812</td>\n",
       "      <td>4.47</td>\n",
       "      <td>12.08</td>\n",
       "      <td>14.14</td>\n",
       "      <td>2.229750e+01</td>\n",
       "      <td>35.41</td>\n",
       "    </tr>\n",
       "    <tr>\n",
       "      <th>rating</th>\n",
       "      <td>1898.0</td>\n",
       "      <td>2.659642e+00</td>\n",
       "      <td>2.195280</td>\n",
       "      <td>0.00</td>\n",
       "      <td>0.00</td>\n",
       "      <td>4.00</td>\n",
       "      <td>5.000000e+00</td>\n",
       "      <td>5.00</td>\n",
       "    </tr>\n",
       "    <tr>\n",
       "      <th>food_preparation_time</th>\n",
       "      <td>1898.0</td>\n",
       "      <td>2.737197e+01</td>\n",
       "      <td>4.632481</td>\n",
       "      <td>20.00</td>\n",
       "      <td>23.00</td>\n",
       "      <td>27.00</td>\n",
       "      <td>3.100000e+01</td>\n",
       "      <td>35.00</td>\n",
       "    </tr>\n",
       "    <tr>\n",
       "      <th>delivery_time</th>\n",
       "      <td>1898.0</td>\n",
       "      <td>2.416175e+01</td>\n",
       "      <td>4.972637</td>\n",
       "      <td>15.00</td>\n",
       "      <td>20.00</td>\n",
       "      <td>25.00</td>\n",
       "      <td>2.800000e+01</td>\n",
       "      <td>33.00</td>\n",
       "    </tr>\n",
       "  </tbody>\n",
       "</table>\n",
       "</div>"
      ],
      "text/plain": [
       "                        count          mean            std         min  \\\n",
       "order_id               1898.0  1.477496e+06     548.049724  1476547.00   \n",
       "customer_id            1898.0  1.711685e+05  113698.139743     1311.00   \n",
       "cost_of_the_order      1898.0  1.649885e+01       7.483812        4.47   \n",
       "rating                 1898.0  2.659642e+00       2.195280        0.00   \n",
       "food_preparation_time  1898.0  2.737197e+01       4.632481       20.00   \n",
       "delivery_time          1898.0  2.416175e+01       4.972637       15.00   \n",
       "\n",
       "                              25%         50%           75%         max  \n",
       "order_id               1477021.25  1477495.50  1.477970e+06  1478444.00  \n",
       "customer_id              77787.75   128600.00  2.705250e+05   405334.00  \n",
       "cost_of_the_order           12.08       14.14  2.229750e+01       35.41  \n",
       "rating                       0.00        4.00  5.000000e+00        5.00  \n",
       "food_preparation_time       23.00       27.00  3.100000e+01       35.00  \n",
       "delivery_time               20.00       25.00  2.800000e+01       33.00  "
      ]
     },
     "execution_count": 47,
     "metadata": {},
     "output_type": "execute_result"
    }
   ],
   "source": [
    "#summary statistics of the dataset for numeric variables only\n",
    "#I use 'transpose' to switch the row and column indices as I find this way much easier to eyeball the summary stats \n",
    "foodhub.describe().T"
   ]
  },
  {
   "cell_type": "code",
   "execution_count": 48,
   "metadata": {},
   "outputs": [
    {
     "data": {
      "text/html": [
       "<div>\n",
       "<style scoped>\n",
       "    .dataframe tbody tr th:only-of-type {\n",
       "        vertical-align: middle;\n",
       "    }\n",
       "\n",
       "    .dataframe tbody tr th {\n",
       "        vertical-align: top;\n",
       "    }\n",
       "\n",
       "    .dataframe thead th {\n",
       "        text-align: right;\n",
       "    }\n",
       "</style>\n",
       "<table border=\"1\" class=\"dataframe\">\n",
       "  <thead>\n",
       "    <tr style=\"text-align: right;\">\n",
       "      <th></th>\n",
       "      <th>count</th>\n",
       "      <th>unique</th>\n",
       "      <th>top</th>\n",
       "      <th>freq</th>\n",
       "    </tr>\n",
       "  </thead>\n",
       "  <tbody>\n",
       "    <tr>\n",
       "      <th>restaurant_name</th>\n",
       "      <td>1898</td>\n",
       "      <td>178</td>\n",
       "      <td>Shake Shack</td>\n",
       "      <td>219</td>\n",
       "    </tr>\n",
       "    <tr>\n",
       "      <th>cuisine_type</th>\n",
       "      <td>1898</td>\n",
       "      <td>14</td>\n",
       "      <td>American</td>\n",
       "      <td>584</td>\n",
       "    </tr>\n",
       "    <tr>\n",
       "      <th>day_of_the_week</th>\n",
       "      <td>1898</td>\n",
       "      <td>2</td>\n",
       "      <td>Weekend</td>\n",
       "      <td>1351</td>\n",
       "    </tr>\n",
       "  </tbody>\n",
       "</table>\n",
       "</div>"
      ],
      "text/plain": [
       "                count unique          top  freq\n",
       "restaurant_name  1898    178  Shake Shack   219\n",
       "cuisine_type     1898     14     American   584\n",
       "day_of_the_week  1898      2      Weekend  1351"
      ]
     },
     "execution_count": 48,
     "metadata": {},
     "output_type": "execute_result"
    }
   ],
   "source": [
    "#Summary of the non-numeric variables \n",
    "foodhub.describe(exclude = 'number').T"
   ]
  },
  {
   "cell_type": "markdown",
   "metadata": {
    "id": "9YbSOR5wJY_T"
   },
   "source": [
    "#### Observations: \n",
    "1. Minimum time to prepare food once the order is placed is 20 minutes. Similary the average time for food being prepared is 27.37 minutes(~27 mins), and the maximum time a restaurant may take to get the food ready is 35 minutes\n",
    "2. A customer in this dataset seems to have spend 4.47 bucks at the minimum, and $35.41 at the maximum. On average, customers spend $16.49.\n",
    "3. 50% of Customers seem to have given rating below 4. Maximum rating is 5. O here indicates the rating 'Not given'.\n",
    "4. It takes 24.16 minutes on average to deliver food. The time ranges from 15 mins at the minimum, and 33 mins at the maximum.\n",
    "5. I can get some sense of non-numeric variables as well. Shake Shack happens to be the restaurants getting the most orders from customers. American cuisine happens to be the most popular among the customers. As expected, orders are placed more in the weekend than on weekdays. "
   ]
  },
  {
   "cell_type": "markdown",
   "metadata": {
    "id": "cw3l58z_JY_T"
   },
   "source": [
    "### How many orders are not rated?"
   ]
  },
  {
   "cell_type": "code",
   "execution_count": 49,
   "metadata": {
    "id": "hEzDUL9wgksi"
   },
   "outputs": [
    {
     "data": {
      "text/plain": [
       "0    736\n",
       "5    588\n",
       "4    386\n",
       "3    188\n",
       "Name: rating, dtype: int64"
      ]
     },
     "execution_count": 49,
     "metadata": {},
     "output_type": "execute_result"
    }
   ],
   "source": [
    "foodhub.rating.value_counts()\n",
    "#alternatively, we can run the following line of code \n",
    "#foodhub.value_counts(\"rating\")"
   ]
  },
  {
   "cell_type": "code",
   "execution_count": 50,
   "metadata": {},
   "outputs": [
    {
     "name": "stdout",
     "output_type": "stream",
     "text": [
      "0    736\n",
      "5    588\n",
      "4    386\n",
      "3    188\n",
      "Name: rating, dtype: int64\n",
      "-----\n"
     ]
    }
   ],
   "source": [
    "#another alternative\n",
    "cat_col = ['rating']\n",
    "\n",
    "# Let me print the number of count of each unique value in the selected column\n",
    "for column in cat_col:\n",
    "    print(foodhub[column].value_counts())\n",
    "    \n",
    "    print('-' * 5)"
   ]
  },
  {
   "cell_type": "markdown",
   "metadata": {
    "id": "5E0O_oviJY_T"
   },
   "source": [
    "#### Observations: \n",
    "736 orders are not rated \n"
   ]
  },
  {
   "cell_type": "markdown",
   "metadata": {
    "id": "7msIfXE-JY_T"
   },
   "source": [
    "### Exploratory Data Analysis (EDA)"
   ]
  },
  {
   "cell_type": "markdown",
   "metadata": {
    "id": "-2xfI28YJY_T"
   },
   "source": [
    "### Univariate Analysis"
   ]
  },
  {
   "cell_type": "markdown",
   "metadata": {
    "id": "0RHZnugBJY_U"
   },
   "source": [
    "###  Explore all the variables and provide observations on their distributions."
   ]
  },
  {
   "cell_type": "code",
   "execution_count": 51,
   "metadata": {
    "id": "rU5ZqISjJY_U"
   },
   "outputs": [
    {
     "data": {
      "image/png": "[encoded data removed]",
      "text/plain": [
       "<Figure size 432x288 with 1 Axes>"
      ]
     },
     "metadata": {
      "needs_background": "light"
     },
     "output_type": "display_data"
    },
    {
     "data": {
      "image/png": "[encoded data removed]",
      "text/plain": [
       "<Figure size 432x288 with 1 Axes>"
      ]
     },
     "metadata": {
      "needs_background": "light"
     },
     "output_type": "display_data"
    }
   ],
   "source": [
    "#Count plot for cuisine_type \n",
    "\n",
    "sns.countplot(data = foodhub, y = 'cuisine_type')\n",
    "\n",
    "##display the plot\n",
    "plt.show()\n",
    "\n",
    "# Looking at if food type varies by the day of the week\n",
    "sns.countplot(data = foodhub, y = 'cuisine_type', hue = 'day_of_the_week')\n",
    "\n",
    "# display the plot\n",
    "plt.show()\n"
   ]
  },
  {
   "cell_type": "markdown",
   "metadata": {},
   "source": [
    "###Observation 1: cuisine_type \n",
    "1. As cuisine_type is a categorical variable, count plot would be the appropriate visualization tool.\n",
    "2. Looking at the countplot, American cuisine happens to be the most ordered cuisine followed by Japanese, Italian, and Chinese. \n",
    "3. The most ordered cuisines on average in a week happen to be in the same order in terms of order--be it the weekday or weekend.\n",
    "\n",
    "\n"
   ]
  },
  {
   "cell_type": "code",
   "execution_count": 52,
   "metadata": {},
   "outputs": [
    {
     "data": {
      "image/png": "[encoded data removed]",
      "text/plain": [
       "<Figure size 360x360 with 1 Axes>"
      ]
     },
     "metadata": {
      "needs_background": "light"
     },
     "output_type": "display_data"
    },
    {
     "data": {
      "image/png": "[encoded data removed]",
      "text/plain": [
       "<Figure size 360x360 with 1 Axes>"
      ]
     },
     "metadata": {
      "needs_background": "light"
     },
     "output_type": "display_data"
    }
   ],
   "source": [
    "# distribution plot for cost of the order\n",
    "# dist plot would be appropriate for the continuous variable like this \n",
    "sns.displot(foodhub['cost_of_the_order'], kind='kde')\n",
    "\n",
    "# display the plot\n",
    "plt.show()\n",
    "\n",
    "sns.displot(data= foodhub, x = 'cost_of_the_order', bins = 5,)\n",
    "plt.show()"
   ]
  },
  {
   "cell_type": "markdown",
   "metadata": {
    "tags": []
   },
   "source": [
    "Observation 2 : cost of the order\n",
    "1. From the above plot, we can see that the cost of the order is skewed to the right. The value of mean (16.49) for this variable is greater than median (14.14) which corroborates the skewness towards right.  "
   ]
  },
  {
   "cell_type": "code",
   "execution_count": 53,
   "metadata": {},
   "outputs": [
    {
     "data": {
      "image/png": "[encoded data removed]",
      "text/plain": [
       "<Figure size 432x288 with 1 Axes>"
      ]
     },
     "metadata": {
      "needs_background": "light"
     },
     "output_type": "display_data"
    }
   ],
   "source": [
    "#bar plot for the dichotomous variable 'day_of_the_week'\n",
    "foodhub.day_of_the_week.value_counts().plot(kind='bar', rot = 0)\n",
    "\n",
    "# display the plot\n",
    "plt.show()"
   ]
  },
  {
   "cell_type": "markdown",
   "metadata": {},
   "source": [
    "Observation 3: day of the week\n",
    "1. Food orders during the weekend are higher than that in the weekdays."
   ]
  },
  {
   "cell_type": "code",
   "execution_count": 54,
   "metadata": {},
   "outputs": [
    {
     "data": {
      "image/png": "[encoded data removed]",
      "text/plain": [
       "<Figure size 432x288 with 1 Axes>"
      ]
     },
     "metadata": {
      "needs_background": "light"
     },
     "output_type": "display_data"
    }
   ],
   "source": [
    "#countplot for categorical variable 'rating'\n",
    "sns.countplot(data = foodhub, x = 'rating')\n",
    "\n",
    "##display the plot\n",
    "plt.show()"
   ]
  },
  {
   "cell_type": "markdown",
   "metadata": {},
   "source": [
    "Observation 4: rating\n",
    "1. Most of the customers are not interested in rating their order placement in foodhub \n",
    "2. Among the customers who rated, a higher number of them seem to be satisfied with the service they got via foodhub."
   ]
  },
  {
   "cell_type": "code",
   "execution_count": 55,
   "metadata": {},
   "outputs": [
    {
     "data": {
      "image/png": "[encoded data removed]",
      "text/plain": [
       "<Figure size 432x288 with 1 Axes>"
      ]
     },
     "metadata": {
      "needs_background": "light"
     },
     "output_type": "display_data"
    },
    {
     "data": {
      "image/png": "[encoded data removed]",
      "text/plain": [
       "<Figure size 360x360 with 1 Axes>"
      ]
     },
     "metadata": {
      "needs_background": "light"
     },
     "output_type": "display_data"
    }
   ],
   "source": [
    "# Plot Food preparation time \n",
    "# I can think of both box plot and hist plot for this variable\n",
    "# Let me draw a box plot as I have already plotted histplot for other variables\n",
    "\n",
    "plt.boxplot(foodhub['food_preparation_time'])\n",
    "\n",
    "# labels for five number summary\n",
    "plt.text(x = 1.1, y = foodhub['food_preparation_time'].min(), s ='min')\n",
    "plt.text(x = 1.1, y = foodhub.food_preparation_time.quantile(0.25), s ='Q1')\n",
    "plt.text(x = 1.1, y = foodhub['food_preparation_time'].median(), s ='median (Q2)')\n",
    "plt.text(x = 1.1, y = foodhub.food_preparation_time.quantile(0.75), s ='Q3')\n",
    "plt.text(x = 1.1, y = foodhub['food_preparation_time'].max(), s ='max')\n",
    "\n",
    "\n",
    "# label the title and axes\n",
    "plt.title('Boxplot of food preparation time')\n",
    "plt.ylabel('Food preparation time')\n",
    "\n",
    "# display the plot\n",
    "plt.show()\n",
    "\n",
    "#This plot looks more or less symmetrical (or like a normal distribution)\n",
    "#Hence, let me test this with the histplot as well\n",
    "#though mean and median happen to be similar, the plot is not normally distributed as shown below\n",
    "sns.displot(foodhub['food_preparation_time'], kind='kde')\n",
    "\n",
    "# display the plot\n",
    "plt.show()"
   ]
  },
  {
   "cell_type": "markdown",
   "metadata": {},
   "source": [
    "Observation 5: food preparation time \n",
    "1. Looking at the boxplot, there are no outliers\n",
    "2. Looking at the boxplot, the mean and median are very close. And hence,the distribution is neither positively skewed, nor negatively skewed i.e. median is almost equally distanced from Q1 and Q3.\n",
    "3. I checked if the distribution is symmetric, and that it is normal distribution( a bell curve), it however emerged that it is not. \n",
    "\n",
    "    "
   ]
  },
  {
   "cell_type": "code",
   "execution_count": 56,
   "metadata": {},
   "outputs": [
    {
     "data": {
      "image/png": "[encoded data removed]",
      "text/plain": [
       "<Figure size 432x288 with 1 Axes>"
      ]
     },
     "metadata": {
      "needs_background": "light"
     },
     "output_type": "display_data"
    },
    {
     "data": {
      "image/png": "[encoded data removed]",
      "text/plain": [
       "<Figure size 360x360 with 1 Axes>"
      ]
     },
     "metadata": {
      "needs_background": "light"
     },
     "output_type": "display_data"
    }
   ],
   "source": [
    "#Box plot for delivery time as well\n",
    "plt.boxplot(foodhub['delivery_time'])\n",
    "\n",
    "# labels for five number summary\n",
    "plt.text(x = 1.1, y = foodhub['delivery_time'].min(), s ='min')\n",
    "plt.text(x = 1.1, y = foodhub.delivery_time.quantile(0.25), s ='Q1')\n",
    "plt.text(x = 1.1, y = foodhub['delivery_time'].median(), s ='median (Q2)')\n",
    "plt.text(x = 1.1, y = foodhub.delivery_time.quantile(0.75), s ='Q3')\n",
    "plt.text(x = 1.1, y = foodhub['delivery_time'].max(), s ='max')\n",
    "\n",
    "\n",
    "# label the title and axes\n",
    "plt.title('Boxplot of Food delivery time')\n",
    "plt.ylabel('Food delivery time')\n",
    "\n",
    "# display the plot\n",
    "plt.show()\n",
    "\n",
    "#Let me plot a distribution plot as well \n",
    "sns.displot(foodhub['delivery_time'], kind='kde')\n",
    "\n",
    "# display the plot\n",
    "plt.show()"
   ]
  },
  {
   "cell_type": "markdown",
   "metadata": {},
   "source": [
    "Observation 6 : Delivery time\n",
    "1. There are no outliers in the dataset for delivery time as evident from the box plot\n",
    "2. Median is closer to Q3 indicating that the distribution is skewed to the left. The distribution plot also corroborates it.\n"
   ]
  },
  {
   "cell_type": "markdown",
   "metadata": {
    "id": "K9CqA5H_JY_U"
   },
   "source": [
    "### Which are the top 5 restaurants in terms of the number of orders received?"
   ]
  },
  {
   "cell_type": "code",
   "execution_count": 57,
   "metadata": {
    "id": "PaJZ3wlOJY_U"
   },
   "outputs": [
    {
     "data": {
      "text/plain": [
       "Shake Shack                  219\n",
       "The Meatball Shop            132\n",
       "Blue Ribbon Sushi            119\n",
       "Blue Ribbon Fried Chicken     96\n",
       "Parm                          68\n",
       "Name: restaurant_name, dtype: int64"
      ]
     },
     "execution_count": 57,
     "metadata": {},
     "output_type": "execute_result"
    }
   ],
   "source": [
    "foodhub.restaurant_name.value_counts().head(5)"
   ]
  },
  {
   "cell_type": "markdown",
   "metadata": {
    "id": "tnjhWgUfJY_U"
   },
   "source": [
    "#### Observations: \n",
    "The top five restaurants are as follows: \n",
    "1. Shake Shack, 2. The Meatball Shop, 3. Blue Ribbon Sushi, 4. Blue Ribbon Fried Chicken, 5. Parm. \n",
    "The frequency with which the restaurant appears in the dataset showcases the number of orders received by it.\n"
   ]
  },
  {
   "cell_type": "markdown",
   "metadata": {
    "id": "gWPMqGq0JY_U"
   },
   "source": [
    "### Which is the most popular cuisine on weekends?"
   ]
  },
  {
   "cell_type": "code",
   "execution_count": 58,
   "metadata": {
    "id": "c-Xnus3VJY_U"
   },
   "outputs": [
    {
     "data": {
      "text/plain": [
       "day_of_the_week  cuisine_type  \n",
       "Weekday          American          169\n",
       "                 Japanese          135\n",
       "                 Italian            91\n",
       "                 Chinese            52\n",
       "                 Indian             24\n",
       "                 Mexican            24\n",
       "                 Middle Eastern     17\n",
       "                 Mediterranean      14\n",
       "                 Southern            6\n",
       "                 French              5\n",
       "                 Thai                4\n",
       "                 Vietnamese          3\n",
       "                 Korean              2\n",
       "                 Spanish             1\n",
       "Weekend          American          415\n",
       "                 Japanese          335\n",
       "                 Italian           207\n",
       "                 Chinese           163\n",
       "                 Mexican            53\n",
       "                 Indian             49\n",
       "                 Mediterranean      32\n",
       "                 Middle Eastern     32\n",
       "                 Thai               15\n",
       "                 French             13\n",
       "                 Korean             11\n",
       "                 Southern           11\n",
       "                 Spanish            11\n",
       "                 Vietnamese          4\n",
       "Name: cuisine_type, dtype: int64"
      ]
     },
     "execution_count": 58,
     "metadata": {},
     "output_type": "execute_result"
    }
   ],
   "source": [
    "foodhub.groupby('day_of_the_week')['cuisine_type'].value_counts()"
   ]
  },
  {
   "cell_type": "code",
   "execution_count": 59,
   "metadata": {},
   "outputs": [
    {
     "data": {
      "text/plain": [
       "American          415\n",
       "Japanese          335\n",
       "Italian           207\n",
       "Chinese           163\n",
       "Mexican            53\n",
       "Indian             49\n",
       "Mediterranean      32\n",
       "Middle Eastern     32\n",
       "Thai               15\n",
       "French             13\n",
       "Korean             11\n",
       "Southern           11\n",
       "Spanish            11\n",
       "Vietnamese          4\n",
       "Name: cuisine_type, dtype: int64"
      ]
     },
     "execution_count": 59,
     "metadata": {},
     "output_type": "execute_result"
    }
   ],
   "source": [
    "foodhub.groupby('day_of_the_week')['cuisine_type'].get_group('Weekend'). value_counts()"
   ]
  },
  {
   "cell_type": "markdown",
   "metadata": {
    "id": "bpQ270TUJY_U"
   },
   "source": [
    "#### Observations:\n",
    "1. American cuisine happens to be the most popular in weekend.To go beyond what has been asked here, American cuisine is also the most popular cuisine in the weekdays as well.\n",
    "\n"
   ]
  },
  {
   "cell_type": "markdown",
   "metadata": {
    "id": "88xgTqkxJY_U"
   },
   "source": [
    "### What percentage of the orders cost more than 20 dollars?"
   ]
  },
  {
   "cell_type": "code",
   "execution_count": 60,
   "metadata": {
    "id": "OTpHyTdzJY_U"
   },
   "outputs": [
    {
     "data": {
      "text/plain": [
       "29.24"
      ]
     },
     "execution_count": 60,
     "metadata": {},
     "output_type": "execute_result"
    }
   ],
   "source": [
    "costly_order = foodhub[foodhub['cost_of_the_order']>20]\n",
    "costly_order\n",
    "percent = round((len(costly_order)/len(foodhub))*100, 2)\n",
    "percent\n",
    "# I remember using lambda function to calculate the percentage in one of our video lessons\n",
    "#But with Pandas DataFrame, it seems to be a little bit complicated. I hope to learn more on this"
   ]
  },
  {
   "cell_type": "markdown",
   "metadata": {
    "id": "77KNAC5zJY_U"
   },
   "source": [
    "#### Observations:\n",
    "29.24% of the orders cost more than 20 bucks.That means, over a quarter of the customers in the dataset are spending more than $20 dollars to order food via foodhub."
   ]
  },
  {
   "cell_type": "markdown",
   "metadata": {
    "id": "HFyHn7hsJY_V"
   },
   "source": [
    "###  What is the mean order delivery time?"
   ]
  },
  {
   "cell_type": "code",
   "execution_count": 61,
   "metadata": {
    "id": "cyFL13hNJY_V"
   },
   "outputs": [
    {
     "data": {
      "text/plain": [
       "24.16"
      ]
     },
     "execution_count": 61,
     "metadata": {},
     "output_type": "execute_result"
    }
   ],
   "source": [
    "round(foodhub['delivery_time'].mean(),2)"
   ]
  },
  {
   "cell_type": "markdown",
   "metadata": {
    "id": "F35SRV-HJY_V",
    "jp-MarkdownHeadingCollapsed": true,
    "tags": []
   },
   "source": [
    "#### Observations:\n",
    "A delivery personnel takes 24.16 minutes on average to deliver food to the customer's door."
   ]
  },
  {
   "cell_type": "markdown",
   "metadata": {
    "id": "48IjaOuDJY_V"
   },
   "source": [
    "### The company has decided to give 20% discount vouchers to the top 3 most frequent customers. Find the IDs of these customers and the number of orders they placed. "
   ]
  },
  {
   "cell_type": "code",
   "execution_count": 62,
   "metadata": {
    "id": "Hz8-DE4Zge0j"
   },
   "outputs": [
    {
     "data": {
      "text/plain": [
       "52832     13\n",
       "47440     10\n",
       "83287      9\n",
       "250494     8\n",
       "259341     7\n",
       "82041      7\n",
       "65009      7\n",
       "276192     7\n",
       "97079      6\n",
       "97991      6\n",
       "Name: customer_id, dtype: int64"
      ]
     },
     "execution_count": 62,
     "metadata": {},
     "output_type": "execute_result"
    }
   ],
   "source": [
    "foodhub['customer_id'].value_counts().head(10)"
   ]
  },
  {
   "cell_type": "markdown",
   "metadata": {
    "id": "9tWVwfX6JY_V"
   },
   "source": [
    "#### Observations:\n",
    "The number of orders placed by the customer would be the frequency with which they appear in the dataset. We see that the customer with id 52832 has placed the highest number of orders i.e. 13. In the descending order, the other two higher number of orders placed happen to be 10 and 9 associated with customers with ids 47440 and 83287. Though frequencies 7 and 6 happen to be outside the purview of this question, it is worth mentioning that some of the customers happen to have similar number of orders placed.  "
   ]
  },
  {
   "cell_type": "markdown",
   "metadata": {
    "id": "AfIc2jPaJY_V"
   },
   "source": [
    "### Multivariate Analysis"
   ]
  },
  {
   "cell_type": "markdown",
   "metadata": {
    "id": "iqiS0RT_JY_V"
   },
   "source": [
    "### Perform a multivariate analysis to explore relationships between the important variables in the dataset. (It is a good idea to explore relations between numerical variables as well as relations between numerical and categorical variables) \n"
   ]
  },
  {
   "cell_type": "code",
   "execution_count": 170,
   "metadata": {
    "id": "3qt4MCNTJY_V"
   },
   "outputs": [
    {
     "data": {
      "text/plain": [
       "<Figure size 576x576 with 0 Axes>"
      ]
     },
     "metadata": {},
     "output_type": "display_data"
    },
    {
     "data": {
      "image/png": "[encoded data removed]",
      "text/plain": [
       "<Figure size 720x720 with 20 Axes>"
      ]
     },
     "metadata": {
      "needs_background": "light"
     },
     "output_type": "display_data"
    },
    {
     "data": {
      "text/plain": [
       "<AxesSubplot:>"
      ]
     },
     "execution_count": 170,
     "metadata": {},
     "output_type": "execute_result"
    },
    {
     "data": {
      "image/png": "[encoded data removed]",
      "text/plain": [
       "<Figure size 1008x720 with 2 Axes>"
      ]
     },
     "metadata": {
      "needs_background": "light"
     },
     "output_type": "display_data"
    }
   ],
   "source": [
    "# Let us first check the relationship between all the variables \n",
    "# Let me begin with pair plot which examines the relation between any two pair of variables\n",
    "#Let me pick only the numeric variables \n",
    "variables_to_drop = ['order_id', 'customer_id', 'restaurant_name', 'cuisine_type']\n",
    "foodhub_selected = foodhub.drop(variables_to_drop, axis=1)\n",
    "\n",
    "plt.figure(figsize = (8,8))\n",
    "\n",
    "# plot a pair plot\n",
    "sns.pairplot(foodhub_selected)\n",
    "\n",
    "# display the plot\n",
    "plt.show()\n",
    "\n",
    "#Let me see the heatmap as well\n",
    "corr = foodhub.corr()\n",
    "corr\n",
    "# # Plot the heatmap\n",
    "plt.figure(figsize = (14, 10))\n",
    "sns.heatmap(corr, annot = True, cmap = 'coolwarm',            \n",
    "        fmt = \".4f\",            \n",
    "        xticklabels = corr.columns,            \n",
    "        yticklabels = corr.columns)\n"
   ]
  },
  {
   "cell_type": "markdown",
   "metadata": {},
   "source": [
    "Observation 1: Multivariate : all variables together\n",
    "1. From the heatmap, it's clear that no variables are correlated with each other. The values, and the indicator color show the absence of such correlation.\n",
    "2. Absence of correlation is also evident from the pairplot. \n",
    "3. The value 1 in the diagonal of heatmap is the correlation of a variable with itself, and hence a perfect 1. \n",
    "4. No correlation between the variables is also a good sign as we progress further towards the inferential statistics to use independent variables to predict the dependent variable, we would be facing the issue of mutlicollinearity."
   ]
  },
  {
   "cell_type": "code",
   "execution_count": 64,
   "metadata": {},
   "outputs": [
    {
     "data": {
      "image/png": "[encoded data removed]",
      "text/plain": [
       "<Figure size 432x288 with 1 Axes>"
      ]
     },
     "metadata": {
      "needs_background": "light"
     },
     "output_type": "display_data"
    },
    {
     "data": {
      "text/plain": [
       "array([[<AxesSubplot:title={'center':'0'}>,\n",
       "        <AxesSubplot:title={'center':'3'}>],\n",
       "       [<AxesSubplot:title={'center':'4'}>,\n",
       "        <AxesSubplot:title={'center':'5'}>]], dtype=object)"
      ]
     },
     "execution_count": 64,
     "metadata": {},
     "output_type": "execute_result"
    },
    {
     "data": {
      "image/png": "[encoded data removed]",
      "text/plain": [
       "<Figure size 432x288 with 2 Axes>"
      ]
     },
     "metadata": {
      "needs_background": "light"
     },
     "output_type": "display_data"
    },
    {
     "data": {
      "image/png": "[encoded data removed]",
      "text/plain": [
       "<Figure size 432x288 with 4 Axes>"
      ]
     },
     "metadata": {
      "needs_background": "light"
     },
     "output_type": "display_data"
    }
   ],
   "source": [
    "# Let me see potential relationship delivery time and rating\n",
    "# I assume that there could perhaps be some relationship between delivery time and rating\n",
    "# I assume faster the delivery, more likely the chance of higher rating\n",
    "sns.stripplot(y = 'rating', x = 'delivery_time', data = foodhub, jitter = True)\n",
    "\n",
    "# display the plot\n",
    "plt.show()\n",
    "\n",
    "#Histogram by day of the week for cuisine type \n",
    "foodhub.hist(by='day_of_the_week',column = 'cuisine_type')\n",
    "\n",
    "#Histogram by rating for cuisine type \n",
    "foodhub.hist(by='rating',column = 'cuisine_type')"
   ]
  },
  {
   "cell_type": "markdown",
   "metadata": {},
   "source": [
    "Observation: \n",
    "1. I was expecting some relationship between delivery time and rating. I was assuming faster the delivery time, more likely would be the chance of a higher rating from the customer. But the strip plot above shows does not support the assumption.\n",
    "2.  From the second graph, we can see that American cuisine is equally popular in both weekend and weekday. Mexican food however seems to be popular in weekday compared to weekdays.\n",
    "3. American food looks leading in every category of rating--be it 'Not given', 3, 4 or 5. We see  Thai food however being associated with higher level of rating. As we know, rating gives us the information as to how the customer is satisifed with the service they get from foodhub. This could include a host of areas--user experience of using foodhub app, taste of food, timely delivery, and so on."
   ]
  },
  {
   "cell_type": "markdown",
   "metadata": {
    "id": "YLkMf09YJY_V"
   },
   "source": [
    "### The company wants to provide a promotional offer in the advertisement of the restaurants. The condition to get the offer is that the restaurants must have a rating count of more than 50 and the average rating should be greater than 4. Find the restaurants fulfilling the criteria to get the promotional offer. "
   ]
  },
  {
   "cell_type": "code",
   "execution_count": 190,
   "metadata": {
    "id": "0M_QDvbYJY_V"
   },
   "outputs": [
    {
     "data": {
      "text/html": [
       "<div>\n",
       "<style scoped>\n",
       "    .dataframe tbody tr th:only-of-type {\n",
       "        vertical-align: middle;\n",
       "    }\n",
       "\n",
       "    .dataframe tbody tr th {\n",
       "        vertical-align: top;\n",
       "    }\n",
       "\n",
       "    .dataframe thead th {\n",
       "        text-align: right;\n",
       "    }\n",
       "</style>\n",
       "<table border=\"1\" class=\"dataframe\">\n",
       "  <thead>\n",
       "    <tr style=\"text-align: right;\">\n",
       "      <th></th>\n",
       "      <th>restaurant_name</th>\n",
       "      <th>rating</th>\n",
       "    </tr>\n",
       "  </thead>\n",
       "  <tbody>\n",
       "    <tr>\n",
       "      <th>0</th>\n",
       "      <td>Shake Shack</td>\n",
       "      <td>133</td>\n",
       "    </tr>\n",
       "    <tr>\n",
       "      <th>1</th>\n",
       "      <td>The Meatball Shop</td>\n",
       "      <td>84</td>\n",
       "    </tr>\n",
       "    <tr>\n",
       "      <th>2</th>\n",
       "      <td>Blue Ribbon Sushi</td>\n",
       "      <td>73</td>\n",
       "    </tr>\n",
       "    <tr>\n",
       "      <th>3</th>\n",
       "      <td>Blue Ribbon Fried Chicken</td>\n",
       "      <td>64</td>\n",
       "    </tr>\n",
       "    <tr>\n",
       "      <th>4</th>\n",
       "      <td>RedFarm Broadway</td>\n",
       "      <td>41</td>\n",
       "    </tr>\n",
       "    <tr>\n",
       "      <th>...</th>\n",
       "      <td>...</td>\n",
       "      <td>...</td>\n",
       "    </tr>\n",
       "    <tr>\n",
       "      <th>151</th>\n",
       "      <td>Frank Restaurant</td>\n",
       "      <td>1</td>\n",
       "    </tr>\n",
       "    <tr>\n",
       "      <th>152</th>\n",
       "      <td>Socarrat Paella Bar</td>\n",
       "      <td>1</td>\n",
       "    </tr>\n",
       "    <tr>\n",
       "      <th>153</th>\n",
       "      <td>El Parador Cafe</td>\n",
       "      <td>1</td>\n",
       "    </tr>\n",
       "    <tr>\n",
       "      <th>154</th>\n",
       "      <td>Lucky Strike</td>\n",
       "      <td>1</td>\n",
       "    </tr>\n",
       "    <tr>\n",
       "      <th>155</th>\n",
       "      <td>'wichcraft</td>\n",
       "      <td>1</td>\n",
       "    </tr>\n",
       "  </tbody>\n",
       "</table>\n",
       "<p>156 rows × 2 columns</p>\n",
       "</div>"
      ],
      "text/plain": [
       "               restaurant_name  rating\n",
       "0                  Shake Shack     133\n",
       "1            The Meatball Shop      84\n",
       "2            Blue Ribbon Sushi      73\n",
       "3    Blue Ribbon Fried Chicken      64\n",
       "4             RedFarm Broadway      41\n",
       "..                         ...     ...\n",
       "151           Frank Restaurant       1\n",
       "152        Socarrat Paella Bar       1\n",
       "153            El Parador Cafe       1\n",
       "154               Lucky Strike       1\n",
       "155                 'wichcraft       1\n",
       "\n",
       "[156 rows x 2 columns]"
      ]
     },
     "execution_count": 190,
     "metadata": {},
     "output_type": "execute_result"
    }
   ],
   "source": [
    "\n",
    "#Get only the restaurants that are rated; 0 or not given denotes the restaurant that is not rated\n",
    "only_rated = foodhub[foodhub['rating'] != 0].copy()\n",
    "\n",
    "# Dataframe with restaurant names and their count of ratings\n",
    "rating_count = only_rated.groupby(['restaurant_name'])['rating'].count().sort_values(ascending = False).reset_index()\n",
    "rating_count"
   ]
  },
  {
   "cell_type": "code",
   "execution_count": 193,
   "metadata": {},
   "outputs": [
    {
     "name": "stdout",
     "output_type": "stream",
     "text": [
      "0                  Shake Shack\n",
      "1            The Meatball Shop\n",
      "2            Blue Ribbon Sushi\n",
      "3    Blue Ribbon Fried Chicken\n",
      "Name: restaurant_name, dtype: object\n",
      "      order_id  customer_id            restaurant_name cuisine_type  \\\n",
      "3      1477334       106968  Blue Ribbon Fried Chicken     American   \n",
      "12     1476966       129969  Blue Ribbon Fried Chicken     American   \n",
      "15     1477414        66222                Shake Shack     American   \n",
      "19     1477354        67487          Blue Ribbon Sushi     Japanese   \n",
      "22     1478287       150599                Shake Shack     American   \n",
      "...        ...          ...                        ...          ...   \n",
      "1880   1477466       222734                Shake Shack     American   \n",
      "1884   1477437       304993                Shake Shack     American   \n",
      "1885   1477550        97324                Shake Shack     American   \n",
      "1886   1478277        48282          The Meatball Shop     American   \n",
      "1888   1477353       106324          The Meatball Shop      Italian   \n",
      "\n",
      "      cost_of_the_order day_of_the_week  rating  food_preparation_time  \\\n",
      "3                 29.20         Weekend       3                     25   \n",
      "12                24.30         Weekend       5                     23   \n",
      "15                16.20         Weekend       5                     33   \n",
      "19                16.20         Weekend       4                     35   \n",
      "22                29.10         Weekday       5                     21   \n",
      "...                 ...             ...     ...                    ...   \n",
      "1880              13.97         Weekend       5                     35   \n",
      "1884              31.43         Weekend       3                     31   \n",
      "1885              29.05         Weekday       4                     27   \n",
      "1886              14.50         Weekend       5                     34   \n",
      "1888              16.20         Weekend       5                     21   \n",
      "\n",
      "      delivery_time  \n",
      "3                15  \n",
      "12               17  \n",
      "15               25  \n",
      "19               26  \n",
      "22               30  \n",
      "...             ...  \n",
      "1880             27  \n",
      "1884             24  \n",
      "1885             29  \n",
      "1886             25  \n",
      "1888             26  \n",
      "\n",
      "[354 rows x 9 columns]\n"
     ]
    },
    {
     "data": {
      "text/html": [
       "<div>\n",
       "<style scoped>\n",
       "    .dataframe tbody tr th:only-of-type {\n",
       "        vertical-align: middle;\n",
       "    }\n",
       "\n",
       "    .dataframe tbody tr th {\n",
       "        vertical-align: top;\n",
       "    }\n",
       "\n",
       "    .dataframe thead th {\n",
       "        text-align: right;\n",
       "    }\n",
       "</style>\n",
       "<table border=\"1\" class=\"dataframe\">\n",
       "  <thead>\n",
       "    <tr style=\"text-align: right;\">\n",
       "      <th></th>\n",
       "      <th>restaurant_name</th>\n",
       "      <th>rating</th>\n",
       "    </tr>\n",
       "  </thead>\n",
       "  <tbody>\n",
       "    <tr>\n",
       "      <th>0</th>\n",
       "      <td>The Meatball Shop</td>\n",
       "      <td>4.511905</td>\n",
       "    </tr>\n",
       "    <tr>\n",
       "      <th>1</th>\n",
       "      <td>Blue Ribbon Fried Chicken</td>\n",
       "      <td>4.328125</td>\n",
       "    </tr>\n",
       "    <tr>\n",
       "      <th>2</th>\n",
       "      <td>Shake Shack</td>\n",
       "      <td>4.278195</td>\n",
       "    </tr>\n",
       "    <tr>\n",
       "      <th>3</th>\n",
       "      <td>Blue Ribbon Sushi</td>\n",
       "      <td>4.219178</td>\n",
       "    </tr>\n",
       "  </tbody>\n",
       "</table>\n",
       "</div>"
      ],
      "text/plain": [
       "             restaurant_name    rating\n",
       "0          The Meatball Shop  4.511905\n",
       "1  Blue Ribbon Fried Chicken  4.328125\n",
       "2                Shake Shack  4.278195\n",
       "3          Blue Ribbon Sushi  4.219178"
      ]
     },
     "execution_count": 193,
     "metadata": {},
     "output_type": "execute_result"
    }
   ],
   "source": [
    "#restaurant names that have rating count of more than 50 \n",
    "over_fifty = rating_count[rating_count['rating']>50]['restaurant_name'] \n",
    "print(over_fifty)\n",
    "# Get the detailed data of restaurants that have rating count more than 50\n",
    "mean_four = only_rated[only_rated['restaurant_name'].isin(rest_names)].copy()\n",
    "print(mean_four)\n",
    "# Grouping restaurants with their rating, and getting the average of the rating \n",
    "mean_four.groupby(['restaurant_name'])['rating'].mean().sort_values(ascending = False).reset_index().dropna() "
   ]
  },
  {
   "cell_type": "markdown",
   "metadata": {
    "id": "10uryUMhJY_V"
   },
   "source": [
    "#### Observations:\n",
    "There are four restaurants which have over 50 rating counts, and have the average rating over 4. The restaurants are : The Meatball shop, Blue Ribbon Fried Chicken,Shake Shack, and Blue Ribbon sushi. "
   ]
  },
  {
   "cell_type": "markdown",
   "metadata": {
    "id": "1gvWBkRUJY_V"
   },
   "source": [
    "### The company charges the restaurant 25% on the orders having cost greater than 20 dollars and 15% on the orders having cost greater than 5 dollars. Find the net revenue generated by the company across all orders."
   ]
  },
  {
   "cell_type": "code",
   "execution_count": 194,
   "metadata": {
    "id": "rEjbnTNEJY_W"
   },
   "outputs": [
    {
     "name": "stdout",
     "output_type": "stream",
     "text": [
      "14754.91\n",
      "16517.170000000002\n"
     ]
    },
    {
     "data": {
      "text/plain": [
       "6166.3"
      ]
     },
     "execution_count": 194,
     "metadata": {},
     "output_type": "execute_result"
    }
   ],
   "source": [
    "#steps: cost greater than 20 dollars(not inclusive); greater than 5 dollars( 20 should be inclusive here)\n",
    "# then I can sum \n",
    "# foodhub (['cost_of_the_order'] >20).value_counts()\n",
    "#= foodhub[foodhub['cost_of_the_order']>20]\n",
    "#foodhub.cost_of_the_order.sum()\n",
    "\n",
    "rev1 = foodhub[foodhub['cost_of_the_order']>20]['cost_of_the_order'].sum()\n",
    "print(rev1)\n",
    "rev2 = foodhub[(foodhub['cost_of_the_order'] > 5) &(foodhub['cost_of_the_order']<= 20)]['cost_of_the_order'].sum()\n",
    "print(rev2)\n",
    "net_revenue = (0.25*rev1) + (0.15*rev2)\n",
    "net_revenue\n",
    "round((net_revenue),2)"
   ]
  },
  {
   "cell_type": "markdown",
   "metadata": {
    "id": "XHCEJgH0JY_W"
   },
   "source": [
    "#### Observations:\n",
    "1. The net revenue generated by the foodhub across all orders is 6166.30 dollar (~$6170)."
   ]
  },
  {
   "cell_type": "markdown",
   "metadata": {
    "id": "pRlVW-oeJY_W"
   },
   "source": [
    "### The company wants to analyze the total time required to deliver the food. What percentage of orders take more than 60 minutes to get delivered from the time the order is placed? (The food has to be prepared and then delivered.) "
   ]
  },
  {
   "cell_type": "code",
   "execution_count": 195,
   "metadata": {
    "id": "zxoTrxfLJY_W"
   },
   "outputs": [
    {
     "name": "stdout",
     "output_type": "stream",
     "text": [
      "      order_id  customer_id                        restaurant_name  \\\n",
      "0      1477147       337525                                Hangawi   \n",
      "1      1477685       358141              Blue Ribbon Sushi Izakaya   \n",
      "2      1477070        66393                            Cafe Habana   \n",
      "3      1477334       106968              Blue Ribbon Fried Chicken   \n",
      "4      1478249        76942                       Dirty Bird to Go   \n",
      "...        ...          ...                                    ...   \n",
      "1893   1476701       292602  Chipotle Mexican Grill $1.99 Delivery   \n",
      "1894   1477421       397537                              The Smile   \n",
      "1895   1477819        35309                      Blue Ribbon Sushi   \n",
      "1896   1477513        64151                      Jack's Wife Freda   \n",
      "1897   1478056       120353                      Blue Ribbon Sushi   \n",
      "\n",
      "       cuisine_type  cost_of_the_order day_of_the_week  rating  \\\n",
      "0            Korean              30.75         Weekend       0   \n",
      "1          Japanese              12.08         Weekend       0   \n",
      "2           Mexican              12.23         Weekday       5   \n",
      "3          American              29.20         Weekend       3   \n",
      "4          American              11.59         Weekday       4   \n",
      "...             ...                ...             ...     ...   \n",
      "1893        Mexican              22.31         Weekend       5   \n",
      "1894       American              12.18         Weekend       5   \n",
      "1895       Japanese              25.22         Weekday       0   \n",
      "1896  Mediterranean              12.18         Weekday       5   \n",
      "1897       Japanese              19.45         Weekend       0   \n",
      "\n",
      "      food_preparation_time  delivery_time  totaltime  \n",
      "0                        25             20         45  \n",
      "1                        25             23         48  \n",
      "2                        23             28         51  \n",
      "3                        25             15         40  \n",
      "4                        25             24         49  \n",
      "...                     ...            ...        ...  \n",
      "1893                     31             17         48  \n",
      "1894                     31             19         50  \n",
      "1895                     31             24         55  \n",
      "1896                     23             31         54  \n",
      "1897                     28             24         52  \n",
      "\n",
      "[1898 rows x 10 columns]\n",
      "      order_id  customer_id             restaurant_name    cuisine_type  \\\n",
      "7      1477859        89574                   Barbounia   Mediterranean   \n",
      "10     1477895       143926  Big Wong Restaurant _¤¾Ñ¼         Chinese   \n",
      "19     1477354        67487           Blue Ribbon Sushi        Japanese   \n",
      "24     1476714       363783                Cafe Mogador  Middle Eastern   \n",
      "54     1477760       130507           Jack's Wife Freda   Mediterranean   \n",
      "...        ...          ...                         ...             ...   \n",
      "1869   1476923        50199                 J. G. Melon        American   \n",
      "1873   1478148       261371                 Shake Shack        American   \n",
      "1875   1478039       292343                  Amy Ruth's        Southern   \n",
      "1880   1477466       222734                 Shake Shack        American   \n",
      "1889   1478190        94152            RedFarm Broadway         Chinese   \n",
      "\n",
      "      cost_of_the_order day_of_the_week  rating  food_preparation_time  \\\n",
      "7                  5.97         Weekday       3                     33   \n",
      "10                 5.92         Weekday       0                     34   \n",
      "19                16.20         Weekend       4                     35   \n",
      "24                15.86         Weekday       0                     32   \n",
      "54                22.75         Weekend       3                     35   \n",
      "...                 ...             ...     ...                    ...   \n",
      "1869              19.40         Weekday       4                     35   \n",
      "1873              22.31         Weekend       0                     35   \n",
      "1875              12.23         Weekday       0                     32   \n",
      "1880              13.97         Weekend       5                     35   \n",
      "1889               8.68         Weekday       3                     33   \n",
      "\n",
      "      delivery_time  totaltime  \n",
      "7                30         63  \n",
      "10               28         62  \n",
      "19               26         61  \n",
      "24               29         61  \n",
      "54               29         64  \n",
      "...             ...        ...  \n",
      "1869             26         61  \n",
      "1873             28         63  \n",
      "1875             33         65  \n",
      "1880             27         62  \n",
      "1889             30         63  \n",
      "\n",
      "[200 rows x 10 columns]\n"
     ]
    },
    {
     "data": {
      "text/plain": [
       "10.54"
      ]
     },
     "execution_count": 195,
     "metadata": {},
     "output_type": "execute_result"
    }
   ],
   "source": [
    "# # I created a new column titled totaltime which adds up both food preparation time and the delivery time\n",
    "foodhub[\"totaltime\"] = foodhub[\"food_preparation_time\"] + foodhub[\"delivery_time\"]\n",
    "print(foodhub)\n",
    "over_an_hour = foodhub[foodhub['totaltime']>60]\n",
    "print(over_an_hour)\n",
    "percent_over_an_hour = (len(over_an_hour)/len(foodhub))*100\n",
    "round(percent_over_an_hour, 2)"
   ]
  },
  {
   "cell_type": "markdown",
   "metadata": {
    "id": "iqzBXn2yJY_W"
   },
   "source": [
    "#### Observations:\n",
    "10.54% of the total orders take more than 60 minutes( one hour) to be prepared, and delivered to the customer's door. "
   ]
  },
  {
   "cell_type": "markdown",
   "metadata": {
    "id": "bUd6cYpPJY_W"
   },
   "source": [
    "### The company wants to analyze the delivery time of the orders on weekdays and weekends. How does the mean delivery time vary during weekdays and weekends?"
   ]
  },
  {
   "cell_type": "code",
   "execution_count": 196,
   "metadata": {
    "id": "pIU5xZZ6JY_W"
   },
   "outputs": [
    {
     "data": {
      "text/plain": [
       "day_of_the_week\n",
       "Weekday    28.340037\n",
       "Weekend    22.470022\n",
       "Name: delivery_time, dtype: float64"
      ]
     },
     "execution_count": 196,
     "metadata": {},
     "output_type": "execute_result"
    }
   ],
   "source": [
    "df.groupby('day_of_the_week')['delivery_time'].mean()"
   ]
  },
  {
   "cell_type": "markdown",
   "metadata": {
    "id": "8H-ODxbVJY_W"
   },
   "source": [
    "#### Observations: \n",
    "Delivery is 6 minutes faster during weekend than in weekday.Given the higher number of orders during weekend, I was hoping that delivery personnels and restaurants will be struggling to meet the demands, and hence the process of delivery will be slowed. But I can observed the situation opposite of my initial assumption. Heavy traffic in the weekdays or the availability of more delivery personnels could be some of the reasons as to why weekend delivery is faster. \n"
   ]
  },
  {
   "cell_type": "markdown",
   "metadata": {
    "id": "17roJywaJY_W"
   },
   "source": [
    "### Conclusion and Recommendations"
   ]
  },
  {
   "cell_type": "markdown",
   "metadata": {
    "id": "ZdX2Wz4FJY_W"
   },
   "source": [
    "### What are your conclusions from the analysis? What recommendations would you like to share to help improve the business? "
   ]
  },
  {
   "cell_type": "markdown",
   "metadata": {
    "id": "VTugVsL4Ddz-"
   },
   "source": [
    "### Conclusions: I analyzed the dataset which mainly includes the information related to the food order made by the customers via Foodhub. The analysis leads me to the following findings. \n",
    "1. Weekend demands look higher compared to the order placement in weekdays. \n",
    "2. Though a variety of cuisines are available as options, American cuisine happens to be the most ordered one.\n",
    "3. Among the sample of the customers we analyzed, a larger portion of the customers did not rate. I see the need to look into this deeply, and I will further explain in the recommendation section. \n",
    "4. But having said that, among them who rated, most of them are highly satisfied as shown by the higher rate given by the customers. \n",
    "5. Weekend delivery time is found to be less than the weekdays--something opposite of what I was expecting. "
   ]
  },
  {
   "cell_type": "markdown",
   "metadata": {
    "id": "PWnsI0i_guWJ"
   },
   "source": [
    "### Recommendations: I see a few areas where Foodhub can act upon to improve the growth in its business. \n",
    "1. First, and foremost, it's of utmost importance to look as to why a larger section of the customers are not rating the app. There could be several reasons behind it. Technical problems, concern about data protection, lack of time, and so on could be the potential explanations. We need to look for the ways to attract customers to rate their experience as it is a very important tool to revise Foodhub's approach, and make better progress by understanding the demands, and interests of the customers. Foodhub can offer some encouragement to the customers like discount or earned points for the ratings. Similarly, categorically mentioning that how careful the company has been regarding the protection of consumer's data should also play as an important catalyst. \n",
    "2. American cuisine happens to be the most ordered food, and highly rated as well. Easy availability, Foodhub's contract with more restaurants preparing American cuisine, and the standard of the food could be the potential explanations. Interestingly, we can see some of the cuisines are very highly rated. One special example worth mentioning would be Thai food. It's one of the cuisine which is associated with high ratings from customer. There are different factors that determine the customer's rating but it is undeniable that the taste of the food, its quality would be among the most important factors. Hence, expanding in such a way that it covers even more restaurants that sell oriental food like Thai could be a way to enhance growth in Foodhub's business. "
   ]
  },
  {
   "cell_type": "markdown",
   "metadata": {
    "id": "tSoucKKbg9Hc"
   },
   "source": [
    "---"
   ]
  }
 ],
 "metadata": {
  "colab": {
   "collapsed_sections": [],
   "name": "PYF_Project_LearnerNotebook_FullCode.ipynb",
   "provenance": []
  },
  "hide_input": false,
  "kernelspec": {
   "display_name": "Python 3 (ipykernel)",
   "language": "python",
   "name": "python3"
  },
  "language_info": {
   "codemirror_mode": {
    "name": "ipython",
    "version": 3
   },
   "file_extension": ".py",
   "mimetype": "text/x-python",
   "name": "python",
   "nbconvert_exporter": "python",
   "pygments_lexer": "ipython3",
   "version": "3.9.7"
  },
  "toc": {
   "base_numbering": 1,
   "nav_menu": {},
   "number_sections": true,
   "sideBar": true,
   "skip_h1_title": false,
   "title_cell": "Table of Contents",
   "title_sidebar": "Contents",
   "toc_cell": false,
   "toc_position": {},
   "toc_section_display": true,
   "toc_window_display": false
  },
  "varInspector": {
   "cols": {
    "lenName": 16,
    "lenType": 16,
    "lenVar": 40
   },
   "kernels_config": {
    "python": {
     "delete_cmd_postfix": "",
     "delete_cmd_prefix": "del ",
     "library": "var_list.py",
     "varRefreshCmd": "print(var_dic_list())"
    },
    "r": {
     "delete_cmd_postfix": ") ",
     "delete_cmd_prefix": "rm(",
     "library": "var_list.r",
     "varRefreshCmd": "cat(var_dic_list()) "
    }
   },
   "types_to_exclude": [
    "module",
    "function",
    "builtin_function_or_method",
    "instance",
    "_Feature"
   ],
   "window_display": false
  }
 },
 "nbformat": 4,
 "nbformat_minor": 4
}
